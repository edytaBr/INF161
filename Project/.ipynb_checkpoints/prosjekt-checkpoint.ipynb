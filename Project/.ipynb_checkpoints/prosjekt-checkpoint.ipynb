{
 "cells": [
  {
   "cell_type": "markdown",
   "metadata": {},
   "source": [
    "In this session, our goal is to import the files, clean it up, and prepare it for machiene learning.\n",
    "This file should be placed in \"prosjekt\" folder in order to run correctly.\n",
    "\n",
    "html_to_df(path)\n",
    "This method takes a path parameter to a html file, and returns it as a dataframe .\n",
    "To extract the data from the html file, I've decided to use BeautifulSoup to get the table, since pd.read_html() didn't like the xls extention too much.\n",
    "When we get the table, we iterate through each row to scrub off html tags, then add them to a list. \n",
    "After we're done iterating through all the rows, we convert the list into a dataframe.\n",
    "We scrub away the index headers after, and return the dataframe.\n",
    "This method should work for all html files inside the folders from 2017-2019.\n",
    "\n",
    "yearly_score(df)\n",
    "This method takes a dataframe parameter and makes a plot over each team's points for each year\n",
    "It strips away all the unceccesary information and converts the Year and Pts columns to integer.\n",
    "Then it plots the line and shows it.\n",
    "For this one, I decided to use plotly, because it has some interactive features, which may come in handy later in this project."
   ]
  },
  {
   "cell_type": "code",
   "execution_count": 2,
   "metadata": {},
   "outputs": [
    {
     "ename": "ModuleNotFoundError",
     "evalue": "No module named 'bs4'",
     "output_type": "error",
     "traceback": [
      "\u001b[0;31m---------------------------------------------------------------------------\u001b[0m",
      "\u001b[0;31mModuleNotFoundError\u001b[0m                       Traceback (most recent call last)",
      "\u001b[0;32m<ipython-input-2-dfb86be8d2cb>\u001b[0m in \u001b[0;36m<module>\u001b[0;34m\u001b[0m\n\u001b[1;32m      1\u001b[0m \u001b[0;32mimport\u001b[0m \u001b[0mpandas\u001b[0m \u001b[0;32mas\u001b[0m \u001b[0mpd\u001b[0m\u001b[0;34m\u001b[0m\u001b[0;34m\u001b[0m\u001b[0m\n\u001b[1;32m      2\u001b[0m \u001b[0;32mimport\u001b[0m \u001b[0mplotly\u001b[0m\u001b[0;34m.\u001b[0m\u001b[0mexpress\u001b[0m \u001b[0;32mas\u001b[0m \u001b[0mpx\u001b[0m\u001b[0;34m\u001b[0m\u001b[0;34m\u001b[0m\u001b[0m\n\u001b[0;32m----> 3\u001b[0;31m \u001b[0;32mfrom\u001b[0m \u001b[0mbs4\u001b[0m \u001b[0;32mimport\u001b[0m \u001b[0mBeautifulSoup\u001b[0m\u001b[0;34m\u001b[0m\u001b[0;34m\u001b[0m\u001b[0m\n\u001b[0m\u001b[1;32m      4\u001b[0m \u001b[0;34m\u001b[0m\u001b[0m\n\u001b[1;32m      5\u001b[0m \"\"\"\n",
      "\u001b[0;31mModuleNotFoundError\u001b[0m: No module named 'bs4'"
     ]
    }
   ],
   "source": [
    "import pandas as pd\n",
    "import plotly.express as px\n",
    "from bs4 import BeautifulSoup\n",
    "\n",
    "\"\"\"\n",
    "Import the html files\n",
    "\"\"\"\n",
    "html2017table = \"./2017/table.xls\"\n",
    "html2018table = \"./2018/table.xls\"\n",
    "html2019table = \"./2019/table.xls\"\n",
    "\n",
    "\"\"\"\n",
    "Reads a html file and turns into a dataframe\n",
    "\"\"\"\n",
    "def html_to_df(path):\n",
    "    soup = BeautifulSoup(open(path), \"html.parser\")     # We use BeautifulSoup to clean up html tags, and find the table\n",
    "    table = soup.find(\"table\")\n",
    "    tableRows = table.find_all(\"tr\")\n",
    "    l = []                                              # We make an empty list to store the extracted data, then append it\n",
    "    for tr in tableRows:\n",
    "        td = tr.find_all()\n",
    "        row = [tr.text for tr in td if td]\n",
    "        if row:\n",
    "            l.append(row)\n",
    "    df = pd.DataFrame(l)        # Convert the list to a dataframe\n",
    "    df.columns = df.iloc[0]     # Strip away extra headers that we don't need\n",
    "    df = df[1:]\n",
    "    return df\n",
    "\n",
    "\"\"\"\n",
    "Clean up data to plot yearly score, convert numbers to numeric, and plot the lines\n",
    "\"\"\"\n",
    "def yearly_score(df):\n",
    "    df = df.iloc[:, [1, 9, 14]]         # Select needed data\n",
    "    df.Year = pd.to_numeric(df.Year)    # Convert to int\n",
    "    df.Pts = pd.to_numeric(df.Pts)\n",
    "    fig = px.line(df, x='Year', y='Pts', color='Squad')     # Setting up the plot\n",
    "    fig.show()      # Display the plot\n",
    "\n",
    "\"\"\"\n",
    "Main function\n",
    "\"\"\"\n",
    "def main():\n",
    "    # Convert htmls to dataframes\n",
    "    df2017table = html_to_df(html2017table)\n",
    "    df2018table = html_to_df(html2018table)\n",
    "    df2019table = html_to_df(html2019table)\n",
    "    \n",
    "    # Add year label for each dataframe, remove first row for other dataframes, then merge it\n",
    "    df2017table[\"Year\"] = \"2017\"\n",
    "    df2018table[\"Year\"] = \"2018\"\n",
    "    df2019table[\"Year\"] = \"2019\"\n",
    "    df2018table = df2018table.iloc[1: , :]\n",
    "    df2019table = df2019table.iloc[1: , :]\n",
    "    dftable = df2017table.append([df2018table, df2019table])\n",
    "    \n",
    "    # Plot the points each team scored over time\n",
    "    yearly_score(dftable)\n",
    "\n",
    "main()"
   ]
  },
  {
   "cell_type": "code",
   "execution_count": null,
   "metadata": {},
   "outputs": [],
   "source": []
  },
  {
   "cell_type": "code",
   "execution_count": null,
   "metadata": {},
   "outputs": [],
   "source": []
  },
  {
   "cell_type": "code",
   "execution_count": null,
   "metadata": {},
   "outputs": [],
   "source": []
  }
 ],
 "metadata": {
  "kernelspec": {
   "display_name": "Python 3",
   "language": "python",
   "name": "python3"
  },
  "language_info": {
   "codemirror_mode": {
    "name": "ipython",
    "version": 3
   },
   "file_extension": ".py",
   "mimetype": "text/x-python",
   "name": "python",
   "nbconvert_exporter": "python",
   "pygments_lexer": "ipython3",
   "version": "3.9.5"
  }
 },
 "nbformat": 4,
 "nbformat_minor": 2
}
