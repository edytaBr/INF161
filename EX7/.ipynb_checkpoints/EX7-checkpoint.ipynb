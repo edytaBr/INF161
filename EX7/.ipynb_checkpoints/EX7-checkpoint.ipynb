{
 "cells": [
  {
   "cell_type": "markdown",
   "id": "cathedral-upgrade",
   "metadata": {},
   "source": [
    "### Exercise 1 \n",
    "We throw two fair dice and a coin at the same time. What is the probability that the sum of the numbers on the dice are higher than 4 or the\n",
    "coin lands on Heads?\n",
    "\n",
    "**Probability OR: Calculations**\\\n",
    "The formula to calculate the “or” probability of two events A and B is this: $P(A$  OR  $B)$ = $P(A) + P(B)  –  P(A$ AND  $B)$\n",
    "\n",
    "**A** - sum of the numbers on the dice are higher than 4 \\\n",
    "**B**- coin lands on Heads\n",
    "\n",
    "P(A) = $\\frac{30}{36}$ = $\\frac{6}{7}$ \n",
    "\n",
    "P(B) = $\\frac{1}{2}$\n",
    "\n",
    " \n",
    "P(A **AND** B) = $\\frac{6}{7}$ $\\cdot$  $\\frac{1}{2}$ = $\\frac{6}{14}$\n",
    "\n",
    "$P(A$  OR  $B)$ = $P(A) + P(B)  –  P(A$ AND  $B) = $ $\\frac{6}{7}$ + $\\frac{1}{2}$ - $\\frac{6}{14}$ = $\\frac{12}{14}$ + $\\frac{7}{14}$ - $\\frac{6}{14}$ = $\\frac{3}{14}$  $\\approx$ = **0.21**\n",
    "\n"
   ]
  },
  {
   "cell_type": "code",
   "execution_count": 8,
   "id": "double-inflation",
   "metadata": {},
   "outputs": [
    {
     "name": "stderr",
     "output_type": "stream",
     "text": [
      "<ipython-input-8-9e24bf13b1ab>:8: FutureWarning: Dropping of nuisance columns in DataFrame reductions (with 'numeric_only=None') is deprecated; in a future version this will raise TypeError.  Select only valid columns before calling the reduction.\n",
      "  coll = ratings - ratings.mean()\n"
     ]
    },
    {
     "data": {
      "text/html": [
       "<div>\n",
       "<style scoped>\n",
       "    .dataframe tbody tr th:only-of-type {\n",
       "        vertical-align: middle;\n",
       "    }\n",
       "\n",
       "    .dataframe tbody tr th {\n",
       "        vertical-align: top;\n",
       "    }\n",
       "\n",
       "    .dataframe thead th {\n",
       "        text-align: right;\n",
       "    }\n",
       "</style>\n",
       "<table border=\"1\" class=\"dataframe\">\n",
       "  <thead>\n",
       "    <tr style=\"text-align: right;\">\n",
       "      <th></th>\n",
       "      <th>Ludvig Sæter</th>\n",
       "      <th>Teodor Haraldson</th>\n",
       "    </tr>\n",
       "  </thead>\n",
       "  <tbody>\n",
       "    <tr>\n",
       "      <th>Ludvig Sæter</th>\n",
       "      <td>1.00</td>\n",
       "      <td>0.17</td>\n",
       "    </tr>\n",
       "    <tr>\n",
       "      <th>Teodor Haraldson</th>\n",
       "      <td>0.17</td>\n",
       "      <td>1.00</td>\n",
       "    </tr>\n",
       "  </tbody>\n",
       "</table>\n",
       "</div>"
      ],
      "text/plain": [
       "                  Ludvig Sæter  Teodor Haraldson\n",
       "Ludvig Sæter              1.00              0.17\n",
       "Teodor Haraldson          0.17              1.00"
      ]
     },
     "execution_count": 8,
     "metadata": {},
     "output_type": "execute_result"
    }
   ],
   "source": [
    "import pandas as pd\n",
    "import numpy as np\n",
    "ratings = pd.read_csv('ratings2.csv')\n",
    "films = pd.read_csv('films.csv')\n",
    "item = pd.read_csv('item_based.csv',  decimal=\",\")\n",
    "collaborative = pd.read_csv('collaborative.csv',  decimal=\",\")\n",
    "\n",
    "coll = ratings - ratings.mean()\n",
    "coll.drop(['Unnamed: 0'], axis=1, inplace=True)\n",
    "\n",
    "corr = round(coll.corr(method = 'pearson'), 2)\n",
    "corr\n"
   ]
  },
  {
   "cell_type": "markdown",
   "id": "difficult-count",
   "metadata": {},
   "source": [
    "Correlation:\n",
    "\n",
    "    - Kamila Hansen        most correlated with Marte Berge\n",
    "    - Lene Beck            most correlated with Ludvig Sæter\n",
    "    - Marte Berge          most correlated with Kamila Hansen\n",
    "    - Emilie Rasmunsen     most correlated with Marte Berge\n",
    "    "
   ]
  },
  {
   "cell_type": "markdown",
   "id": "correct-twins",
   "metadata": {},
   "source": [
    "### Item based:\n",
    "Calculated mean for specific film type for particular user. "
   ]
  },
  {
   "cell_type": "code",
   "execution_count": 5,
   "id": "directed-river",
   "metadata": {},
   "outputs": [
    {
     "data": {
      "text/html": [
       "<div>\n",
       "<style scoped>\n",
       "    .dataframe tbody tr th:only-of-type {\n",
       "        vertical-align: middle;\n",
       "    }\n",
       "\n",
       "    .dataframe tbody tr th {\n",
       "        vertical-align: top;\n",
       "    }\n",
       "\n",
       "    .dataframe thead th {\n",
       "        text-align: right;\n",
       "    }\n",
       "</style>\n",
       "<table border=\"1\" class=\"dataframe\">\n",
       "  <thead>\n",
       "    <tr style=\"text-align: right;\">\n",
       "      <th></th>\n",
       "      <th>Unnamed: 0</th>\n",
       "      <th>Money Heist</th>\n",
       "      <th>Mr. Robot</th>\n",
       "      <th>Rick and Morty</th>\n",
       "      <th>Brooklyn nine-nine</th>\n",
       "      <th>Peaky Blinders</th>\n",
       "      <th>After Life</th>\n",
       "      <th>BoJack Horseman</th>\n",
       "    </tr>\n",
       "  </thead>\n",
       "  <tbody>\n",
       "    <tr>\n",
       "      <th>0</th>\n",
       "      <td>Teodor Haraldson</td>\n",
       "      <td>6</td>\n",
       "      <td>9</td>\n",
       "      <td>8.0</td>\n",
       "      <td>8</td>\n",
       "      <td>5</td>\n",
       "      <td>6</td>\n",
       "      <td>8</td>\n",
       "    </tr>\n",
       "    <tr>\n",
       "      <th>1</th>\n",
       "      <td>Kamila Hansen</td>\n",
       "      <td>8</td>\n",
       "      <td>8</td>\n",
       "      <td>5.3</td>\n",
       "      <td>9</td>\n",
       "      <td>5</td>\n",
       "      <td>4</td>\n",
       "      <td>3</td>\n",
       "    </tr>\n",
       "    <tr>\n",
       "      <th>2</th>\n",
       "      <td>Marthe Berge</td>\n",
       "      <td>7</td>\n",
       "      <td>5</td>\n",
       "      <td>1.0</td>\n",
       "      <td>8</td>\n",
       "      <td>6</td>\n",
       "      <td>5</td>\n",
       "      <td>3</td>\n",
       "    </tr>\n",
       "    <tr>\n",
       "      <th>3</th>\n",
       "      <td>Lene Beck</td>\n",
       "      <td>5</td>\n",
       "      <td>9</td>\n",
       "      <td>5.3</td>\n",
       "      <td>8</td>\n",
       "      <td>3</td>\n",
       "      <td>7</td>\n",
       "      <td>1</td>\n",
       "    </tr>\n",
       "    <tr>\n",
       "      <th>4</th>\n",
       "      <td>Ludvig Sæter</td>\n",
       "      <td>5</td>\n",
       "      <td>7</td>\n",
       "      <td>5.0</td>\n",
       "      <td>8</td>\n",
       "      <td>6</td>\n",
       "      <td>7</td>\n",
       "      <td>5</td>\n",
       "    </tr>\n",
       "    <tr>\n",
       "      <th>5</th>\n",
       "      <td>Emillie Rasmusen</td>\n",
       "      <td>3</td>\n",
       "      <td>2</td>\n",
       "      <td>4.0</td>\n",
       "      <td>9</td>\n",
       "      <td>7</td>\n",
       "      <td>2</td>\n",
       "      <td>5</td>\n",
       "    </tr>\n",
       "  </tbody>\n",
       "</table>\n",
       "</div>"
      ],
      "text/plain": [
       "         Unnamed: 0  Money Heist  Mr. Robot  Rick and Morty  \\\n",
       "0  Teodor Haraldson            6          9             8.0   \n",
       "1     Kamila Hansen            8          8             5.3   \n",
       "2      Marthe Berge            7          5             1.0   \n",
       "3         Lene Beck            5          9             5.3   \n",
       "4      Ludvig Sæter            5          7             5.0   \n",
       "5  Emillie Rasmusen            3          2             4.0   \n",
       "\n",
       "   Brooklyn nine-nine  Peaky Blinders  After Life  BoJack Horseman  \n",
       "0                   8               5           6                8  \n",
       "1                   9               5           4                3  \n",
       "2                   8               6           5                3  \n",
       "3                   8               3           7                1  \n",
       "4                   8               6           7                5  \n",
       "5                   9               7           2                5  "
      ]
     },
     "execution_count": 5,
     "metadata": {},
     "output_type": "execute_result"
    }
   ],
   "source": [
    "item "
   ]
  },
  {
   "cell_type": "markdown",
   "id": "scientific-single",
   "metadata": {},
   "source": [
    "### Collaborative filtering"
   ]
  },
  {
   "cell_type": "code",
   "execution_count": 9,
   "id": "other-quest",
   "metadata": {},
   "outputs": [
    {
     "ename": "NameError",
     "evalue": "name 'collaborative' is not defined",
     "output_type": "error",
     "traceback": [
      "\u001b[0;31m---------------------------------------------------------------------------\u001b[0m",
      "\u001b[0;31mNameError\u001b[0m                                 Traceback (most recent call last)",
      "\u001b[0;32m<ipython-input-9-7e8c71edce68>\u001b[0m in \u001b[0;36m<module>\u001b[0;34m\u001b[0m\n\u001b[0;32m----> 1\u001b[0;31m \u001b[0mcollaborative\u001b[0m\u001b[0;34m\u001b[0m\u001b[0;34m\u001b[0m\u001b[0m\n\u001b[0m",
      "\u001b[0;31mNameError\u001b[0m: name 'collaborative' is not defined"
     ]
    }
   ],
   "source": [
    "collaborative"
   ]
  },
  {
   "cell_type": "code",
   "execution_count": null,
   "id": "micro-scope",
   "metadata": {},
   "outputs": [],
   "source": []
  }
 ],
 "metadata": {
  "kernelspec": {
   "display_name": "Python 3",
   "language": "python",
   "name": "python3"
  },
  "language_info": {
   "codemirror_mode": {
    "name": "ipython",
    "version": 3
   },
   "file_extension": ".py",
   "mimetype": "text/x-python",
   "name": "python",
   "nbconvert_exporter": "python",
   "pygments_lexer": "ipython3",
   "version": "3.9.7"
  }
 },
 "nbformat": 4,
 "nbformat_minor": 5
}
