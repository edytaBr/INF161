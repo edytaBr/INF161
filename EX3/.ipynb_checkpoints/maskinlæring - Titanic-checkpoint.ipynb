{
 "cells": [
  {
   "cell_type": "markdown",
   "metadata": {},
   "source": [
    "## Titanic overlevelse\n",
    "\n",
    "Her har vi data om passasjerer på skipet Titanic og informasjon om hvorvidt de overlevde. Noen passasjergrupper hadde bedre sjanser for å overleve. I denne oppgaven skal du bruke passasjerdata for å predikere om passasjeren overlevde. Gjør det følgende: \n",
    "\n",
    "1. Del data i trenings-, validerigns-, og testdata med størrelser 70%, 15%, 15% av data. \n",
    "2. Tren en kNN-modell med k=1, k=10 og k=50 på treningsdata.\n",
    "3. Tren en logistisk regresjon, naive Bayes modell, tilfeldig skog og supportvektormaskin på treningsdata.\n",
    "4. Sorter de ulike modellene etter nøyaktighet på valideringsdata (sklearn.metrics.accuracy_score).\n",
    "5. I stedet for nøyaktighet er det vanlig å bruke log-loss, som tar hensyn til en probabilistisk prediksjon. Hvis $y_{ti}$ er sanne klasser i $\\{0, 1\\}$ og $y_{pi}$ er predikerte sannsynlighet for å være i klasse 1 for datapunkt $i$, så er log-loss $$- \\frac{1}{N+1} \\sum_{i=0}^{N} y_{ti} log(y_{pi}) + (1 - y_{ti}) log(1 - y_{pi}).$$ Sorter de ulike modellene etter log-loss (sklearn.metrics.log_loss). \n",
    "6. Velg ut den beste modellen (basert på log-loss) og sjekk hvor godt den generaliserer ved å regne ut nøyaktighet og log-loss på testdata. \n",
    "7. Gi en oppsummering over hva du har gjort og hva resultatet var. "
   ]
  },
  {
   "cell_type": "code",
   "execution_count": 1,
   "metadata": {},
   "outputs": [],
   "source": [
    "# imports\n",
    "import numpy as np\n",
    "import pandas as pd\n",
    "from sklearn.model_selection import train_test_split\n",
    "from sklearn.preprocessing import PolynomialFeatures\n",
    "from sklearn.neighbors import KNeighborsClassifier\n",
    "from sklearn.linear_model import LogisticRegression, Lasso\n",
    "from sklearn.naive_bayes import MultinomialNB\n",
    "from sklearn.ensemble import RandomForestClassifier, RandomForestRegressor\n",
    "from sklearn.svm import SVC\n",
    "from sklearn.metrics import accuracy_score, log_loss, mean_squared_error\n",
    "import seaborn as sns\n",
    "import matplotlib.pyplot as plt"
   ]
  },
  {
   "cell_type": "code",
   "execution_count": 3,
   "metadata": {},
   "outputs": [],
   "source": [
    "# les inn Titanic-data\n",
    "titanic_df = pd.read_csv('titanic.csv')"
   ]
  },
  {
   "cell_type": "code",
   "execution_count": 4,
   "metadata": {},
   "outputs": [],
   "source": [
    "# del data i mål-, og prediktorvariabler\n",
    "reduced_df = titanic_df.loc[:, ['Survived', 'Pclass', 'Sex', 'Age', 'SibSp', 'Parch', 'Fare']].dropna()\n",
    "X = pd.get_dummies(reduced_df.loc[:, ['Pclass', 'Sex', 'Age', 'SibSp', 'Parch', 'Fare']]).values\n",
    "y = reduced_df['Survived'].values"
   ]
  },
  {
   "cell_type": "code",
   "execution_count": null,
   "metadata": {},
   "outputs": [],
   "source": []
  }
 ],
 "metadata": {
  "celltoolbar": "Tags",
  "kernelspec": {
   "display_name": "Python 3",
   "language": "python",
   "name": "python3"
  },
  "language_info": {
   "codemirror_mode": {
    "name": "ipython",
    "version": 3
   },
   "file_extension": ".py",
   "mimetype": "text/x-python",
   "name": "python",
   "nbconvert_exporter": "python",
   "pygments_lexer": "ipython3",
   "version": "3.9.5"
  }
 },
 "nbformat": 4,
 "nbformat_minor": 2
}
