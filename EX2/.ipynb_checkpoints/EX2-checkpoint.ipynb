{
 "cells": [
  {
   "cell_type": "code",
   "execution_count": 5,
   "metadata": {},
   "outputs": [],
   "source": [
    "import numpy as np\n",
    "import matplotlib.pyplot as plt  # To visualize\n",
    "import pandas as pd  # To read data\n",
    "from sklearn.linear_model import LinearRegression\n",
    "from sklearn.model_selection import train_test_split"
   ]
  },
  {
   "cell_type": "code",
   "execution_count": 6,
   "metadata": {},
   "outputs": [],
   "source": [
    "df = pd.read_csv ('Real estate.csv')"
   ]
  },
  {
   "cell_type": "code",
   "execution_count": 12,
   "metadata": {},
   "outputs": [],
   "source": [
    "#print (df)\n",
    "\n",
    "df.describe()\n",
    "\n",
    "#Not that not all columns give meaning to summary\n",
    "\n",
    "#summary table\n",
    "\n",
    "summary = []\n",
    "\n",
    "columns = df.columns.values.tolist()\n",
    "\n",
    "column_names = [\"Column\", \"Mean\", \"Median\", \"Quantile 75\", \"Variance\", \"SD\"]\n",
    "summary = pd.DataFrame(columns = column_names)\n",
    "summary['Column'] = columns\n",
    "\n",
    "for x in range(df.shape[1]):\n",
    "    data = (df.iloc[:, [x]])\n",
    "    summary['Mean'][x] = (data.mean()[0])\n",
    "    summary['Median'][x] = (data.median()[0])\n",
    "    summary['Quantile 75'][x]= (data.quantile(.75)[0])\n",
    "    summary['Variance'][x] = (data.var()[0])\n",
    "    summary['SD'][x] = (data.std()[0])\n",
    "    \n"
   ]
  },
  {
   "cell_type": "code",
   "execution_count": 13,
   "metadata": {},
   "outputs": [
    {
     "name": "stdout",
     "output_type": "stream",
     "text": [
      "                                   Column     Mean   Median Quantile 75  \\\n",
      "0                                      No    207.5    207.5      310.75   \n",
      "1                     X1 transaction date  2013.15  2013.17     2013.42   \n",
      "2                            X2 house age  17.7126     16.1       28.15   \n",
      "3  X3 distance to the nearest MRT station  1083.89  492.231     1454.28   \n",
      "4         X4 number of convenience stores   4.0942        4           6   \n",
      "5                             X5 latitude   24.969  24.9711     24.9775   \n",
      "6                            X6 longitude  121.533  121.539     121.543   \n",
      "7              Y house price of unit area  37.9802    38.45        46.6   \n",
      "\n",
      "      Variance         SD  \n",
      "0      14317.5    119.656  \n",
      "1    0.0795055   0.281967  \n",
      "2      129.789    11.3925  \n",
      "3  1.59292e+06    1262.11  \n",
      "4      8.67633    2.94556  \n",
      "5  0.000154013  0.0124102  \n",
      "6  0.000235536  0.0153472  \n",
      "7      185.137    13.6065  \n"
     ]
    }
   ],
   "source": [
    "    print(summary)"
   ]
  },
  {
   "cell_type": "code",
   "execution_count": 14,
   "metadata": {},
   "outputs": [],
   "source": [
    "##2\n",
    "df.isnull().values.any()\n",
    "X = df.drop('Y house price of unit area',axis=1)\n",
    "y = df['Y house price of unit area']\n",
    "X_train, X_test, y_train, y_test = train_test_split(X, y, test_size=0.3, \n",
    "                                                    random_state=101)\n",
    "\n",
    "#test size represent the proportion of the dataset to include in the test split. \n",
    "#random_state Controls the shuffling applied to the data before applying the split -> simply sets seed to the random generator, so that train-test splits are always deterministic\n",
    "#without specified the random_state in the code, then every time code run(execute) a new random value \n",
    "#is generated and the train and test datasets \n",
    "#would have different values each time.\n",
    "\n",
    "model= LinearRegression()\n",
    "model.fit(X_train, y_train)\n",
    "LinearRegression()\n",
    "pd.DataFrame(model.coef_, X.columns, columns=['Coeficient'])\n",
    "y_pred=model.predict(X_test)\n",
    "\n",
    "\n",
    "houseToPredict = pd.DataFrame()\n",
    "prediction = {'No': 1, 'X1 transaction date': 2014, 'X2 house age': 10, \n",
    "              'X3 distance to the nearest MRRT station' : 1200, 'X4 number of convenience stores': 5, \n",
    "              'X5 latitude': 24.93, \n",
    "              'X6 longitude': 121.54}\n",
    "\n",
    "prediction = {'No': 1, 'X1 transaction date': 2014, 'X2 house age': 10, \n",
    "              'X3 distance to the nearest MRRT station' : 1200, 'X4 number of convenience stores': 5, \n",
    "              'X5 latitude': 24.93, \n",
    "              'X6 longitude': 121.54}\n",
    "\n",
    "\n",
    "\n",
    "\n",
    "houseToPredict = houseToPredict.append(prediction, ignore_index = True)\n",
    "predictedPrice=model.predict(houseToPredict)"
   ]
  },
  {
   "cell_type": "code",
   "execution_count": 15,
   "metadata": {},
   "outputs": [
    {
     "name": "stdout",
     "output_type": "stream",
     "text": [
      "Predicted house price (with given criteria) is  [36.42730457]\n"
     ]
    }
   ],
   "source": [
    "print(\"Predicted house price (with given criteria) is \", predictedPrice)"
   ]
  }
 ],
 "metadata": {
  "kernelspec": {
   "display_name": "Python 3",
   "language": "python",
   "name": "python3"
  },
  "language_info": {
   "codemirror_mode": {
    "name": "ipython",
    "version": 3
   },
   "file_extension": ".py",
   "mimetype": "text/x-python",
   "name": "python",
   "nbconvert_exporter": "python",
   "pygments_lexer": "ipython3",
   "version": "3.8.10"
  }
 },
 "nbformat": 4,
 "nbformat_minor": 4
}
